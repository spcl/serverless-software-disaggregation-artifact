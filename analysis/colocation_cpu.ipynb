{
 "cells": [
  {
   "cell_type": "code",
   "execution_count": 2,
   "id": "63effd02",
   "metadata": {},
   "outputs": [],
   "source": [
    "import json\n",
    "import os\n",
    "import re\n",
    "import numpy as np\n",
    "import matplotlib.pyplot as plt\n",
    "import matplotlib\n",
    "import seaborn as sns\n",
    "import pandas as pd\n",
    "import glob\n",
    "%matplotlib inline\n",
    "plt.rcParams[\"figure.dpi\"] = 150\n",
    "BASE_PATH = os.path.abspath(os.path.join(os.getcwd(), os.pardir))"
   ]
  },
  {
   "cell_type": "markdown",
   "id": "2d1a047f",
   "metadata": {},
   "source": [
    "# LULESH SPREADING ANALYSIS"
   ]
  },
  {
   "cell_type": "code",
   "execution_count": 52,
   "id": "6f4ce52a",
   "metadata": {},
   "outputs": [
    {
     "name": "stdout",
     "output_type": "stream",
     "text": [
      "8      9.7\n",
      "16     9.0\n",
      "22     9.5\n",
      "23     9.7\n",
      "25     9.4\n",
      "      ... \n",
      "374    8.8\n",
      "379    9.4\n",
      "381    9.5\n",
      "387    8.9\n",
      "388    9.4\n",
      "Name: time, Length: 70, dtype: float64\n",
      "\n"
     ]
    }
   ],
   "source": [
    "\n",
    "def lines_that_start_with(string, fp):\n",
    "    return [line for line in fp if line.startswith(string)]\n",
    "\n",
    "data = []\n",
    "\n",
    "for spread in [1,8,16,20,24,28,32]:\n",
    "    \n",
    "    for f in glob.glob(os.path.join(BASE_PATH, f'data/baseline/lulesh_{spread}/lulesh_*.out')):\n",
    "\n",
    "        with open(f, 'r') as fp:\n",
    "            for line in lines_that_start_with(\"Elapsed time\", fp):\n",
    "                size = int(f.split('_')[-2])\n",
    "                data.append([spread, size, float(line.split()[-2])])\n",
    "                \n",
    "lulesh_time = pd.DataFrame(data=data, columns=['spread', 'size', 'time'])\n",
    "print(lulesh_time.loc[df['size'] == 10]['time'])\n",
    "\n",
    "print()"
   ]
  },
  {
   "cell_type": "code",
   "execution_count": 54,
   "id": "4f170b8b",
   "metadata": {},
   "outputs": [
    {
     "data": {
      "text/plain": [
       "Text(0, 0.5, 'Time [s]')"
      ]
     },
     "execution_count": 54,
     "metadata": {},
     "output_type": "execute_result"
    },
    {
     "data": {
      "image/png": "[encoded data removed]",
      "text/plain": [
       "<Figure size 1350x450 with 1 Axes>"
      ]
     },
     "metadata": {
      "needs_background": "light"
     },
     "output_type": "display_data"
    }
   ],
   "source": [
    "fig = plt.figure(figsize=(9,3))\n",
    "ax = fig.gca()\n",
    "g = sns.barplot(\n",
    "    data=lulesh_time,\n",
    "    x=\"size\", y=\"time\", hue=\"spread\",\n",
    "    ci=\"sd\", palette=\"dark\",#, alpha=.6, height=6,\n",
    "    ax=ax\n",
    ")\n",
    "#g.despine(left=True)\n",
    "ax.set_xlabel(\"Size\")\n",
    "ax.set_ylabel(\"Time [s]\")\n",
    "#g.legend.set_title(\"\")\n"
   ]
  },
  {
   "cell_type": "code",
   "execution_count": 53,
   "id": "a67a3aec",
   "metadata": {
    "scrolled": true
   },
   "outputs": [
    {
     "name": "stdout",
     "output_type": "stream",
     "text": [
      "10 1.0270880361173815\n",
      "15 1.0125\n",
      "18 1.0182529335071706\n",
      "20 1.0\n",
      "25 1.0\n",
      "30 1.0275862068965518\n"
     ]
    }
   ],
   "source": [
    "for size in [10,15,18,20,25,30]:\n",
    "    mean_full = lulesh_time.loc[(df['size'] == size) & (df['spread'] == 32)].mean()\n",
    "    mean_empty = lulesh_time.loc[(df['size'] == size) & (df['spread'] == 24)].mean()\n",
    "    ratio = mean_full / mean_empty\n",
    "    print(size, ratio['time'])"
   ]
  },
  {
   "cell_type": "markdown",
   "id": "28f119a1",
   "metadata": {},
   "source": [
    "# NAS Benchmarks"
   ]
  },
  {
   "cell_type": "code",
   "execution_count": 51,
   "id": "f94004a5",
   "metadata": {},
   "outputs": [
    {
     "name": "stdout",
     "output_type": "stream",
     "text": [
      "CoV benchmark  size  p\n",
      "bt         A     1    0.018444\n",
      "                 4    0.007384\n",
      "           W     1    0.008760\n",
      "                 4    0.018486\n",
      "cg         B     4    0.007680\n",
      "                 8    0.068124\n",
      "ep         B     1    0.005324\n",
      "                 2    0.114347\n",
      "                 4    0.008996\n",
      "                 8    0.175325\n",
      "           W     1    0.023988\n",
      "                 2    0.117849\n",
      "                 4    0.210020\n",
      "                 8    0.226589\n",
      "ft         B     1    0.007854\n",
      "                 2    0.006707\n",
      "                 4    0.018033\n",
      "                 8    0.071235\n",
      "           W     1    0.053791\n",
      "                 2    0.000000\n",
      "                 4    0.000000\n",
      "                 8    0.249981\n",
      "lu         A     1    0.005579\n",
      "                 2    0.003564\n",
      "                 4    0.005517\n",
      "                 8    0.018855\n",
      "mg         B     1    0.006303\n",
      "           W     1    0.000000\n",
      "Name: time, dtype: float64\n"
     ]
    }
   ],
   "source": [
    "\n",
    "def lines_that_contain(string, fp):\n",
    "    return [line for line in fp if string in line]\n",
    "\n",
    "data = []\n",
    "\n",
    "for p in [1,2,4,8]:\n",
    "    \n",
    "    for f in glob.glob(os.path.join(BASE_PATH, f'data/baseline/nas_{p}/*.out')):\n",
    "        #print(f)\n",
    "        with open(f, 'r') as fp:\n",
    "            for line in lines_that_contain(\"in seconds\", fp):\n",
    "                size = f.split('_')[-2]\n",
    "                benchmark = f.split('_')[-3]\n",
    "                data.append([p, benchmark, size, float(line.split()[-1])])\n",
    "\n",
    "df_baremetal = pd.DataFrame(data=data, columns=['p', 'benchmark', 'size', 'time'])\n",
    "mean_baremetal = df_baremetal.groupby(['benchmark', 'size', 'p']).mean()['time']\n",
    "print('CoV', df_baremetal.groupby(['benchmark', 'size', 'p']).std()['time'] / mean_baremetal)"
   ]
  },
  {
   "cell_type": "code",
   "execution_count": 50,
   "id": "ed4c7f98",
   "metadata": {},
   "outputs": [
    {
     "name": "stdout",
     "output_type": "stream",
     "text": [
      "Mean benchmark  size  p\n",
      "bt         A     1    56.735\n",
      "                 4    12.388\n",
      "           W     1     1.959\n",
      "                 4     0.543\n",
      "cg         B     4    26.132\n",
      "                 8     6.856\n",
      "ep         B     1    18.800\n",
      "                 2     9.448\n",
      "                 4     4.808\n",
      "                 8     2.664\n",
      "           W     1     0.600\n",
      "                 2     0.313\n",
      "                 4     0.169\n",
      "                 8     0.101\n",
      "ft         B     1    38.975\n",
      "                 2    24.010\n",
      "                 4    12.973\n",
      "                 8     7.527\n",
      "           W     1     0.145\n",
      "                 2     0.090\n",
      "                 4     0.050\n",
      "                 8     0.033\n",
      "lu         A     1    26.044\n",
      "                 2    13.425\n",
      "                 4     6.883\n",
      "                 8     4.074\n",
      "mg         B     1     4.640\n",
      "           W     1     0.125\n",
      "Name: time, dtype: float64\n",
      "CoV benchmark  size  p\n",
      "bt         A     1    0.006726\n",
      "                 4    0.010822\n",
      "           W     1    0.006568\n",
      "                 4    0.026117\n",
      "cg         B     4    0.169010\n",
      "                 8    0.098091\n",
      "ep         B     1    0.004513\n",
      "                 2    0.001854\n",
      "                 4    0.008922\n",
      "                 8    0.005367\n",
      "           W     1    0.015713\n",
      "                 2    0.021564\n",
      "                 4    0.043661\n",
      "                 8    0.135675\n",
      "ft         B     1    0.009616\n",
      "                 2    0.010829\n",
      "                 4    0.028107\n",
      "                 8    0.027464\n",
      "           W     1    0.036348\n",
      "                 2    0.000000\n",
      "                 4    0.000000\n",
      "                 8    0.146378\n",
      "lu         A     1    0.006034\n",
      "                 2    0.002388\n",
      "                 4    0.004441\n",
      "                 8    0.015403\n",
      "mg         B     1    0.006096\n",
      "           W     1    0.042164\n",
      "Name: time, dtype: float64\n",
      "Container/baremetal benchmark  size  p\n",
      "bt         A     1    0.972289\n",
      "                 4    1.004704\n",
      "           W     1    1.075783\n",
      "                 4    1.064706\n",
      "cg         B     4    0.844193\n",
      "                 8    0.815317\n",
      "ep         B     1    0.942970\n",
      "                 2    0.915326\n",
      "                 4    0.945340\n",
      "                 8    0.697382\n",
      "           W     1    0.963082\n",
      "                 2    0.972050\n",
      "                 4    0.918478\n",
      "                 8    0.926606\n",
      "ft         B     1    1.350766\n",
      "                 2    1.386499\n",
      "                 4    1.317190\n",
      "                 8    1.309955\n",
      "           W     1    1.510417\n",
      "                 2    1.500000\n",
      "                 4    1.666667\n",
      "                 8    1.222222\n",
      "lu         A     1    1.060035\n",
      "                 2    1.086605\n",
      "                 4    1.064656\n",
      "                 8    1.131352\n",
      "mg         B     1    1.009134\n",
      "           W     1    1.136364\n",
      "Name: time, dtype: float64\n"
     ]
    }
   ],
   "source": [
    "\n",
    "def lines_that_contain(string, fp):\n",
    "    return [line for line in fp if string in line]\n",
    "\n",
    "data = []\n",
    "\n",
    "for p in [1,2,4,8]:\n",
    "    \n",
    "    for f in glob.glob(os.path.join(BASE_PATH, f'data/baseline/nas_sarus_{p}/*.out')):\n",
    "        #print(f)\n",
    "        with open(f, 'r') as fp:\n",
    "            for line in lines_that_contain(\"in seconds\", fp):\n",
    "                size = f.split('_')[-2]\n",
    "                benchmark = f.split('_')[-3]\n",
    "                data.append([p, benchmark, size, float(line.split()[-1])])\n",
    "                \n",
    "df_container = pd.DataFrame(data=data, columns=['p', 'benchmark', 'size', 'time'])\n",
    "df_container['type'] = df_container.apply(lambda row: f\"({row['benchmark'].upper()}, {row['size']})\", axis=1)\n",
    "df_container.sort_values(by=['type'], inplace=True)\n",
    "mean_container = df_container.groupby(['benchmark', 'size', 'p']).mean()['time']\n",
    "\n",
    "print('Mean', mean_container)\n",
    "print('CoV', df_container.groupby(['benchmark', 'size', 'p']).std()['time'] / sum_container)\n",
    "print('Container/baremetal', sum_container/sum_normal)"
   ]
  },
  {
   "cell_type": "code",
   "execution_count": 55,
   "id": "ae891bb6",
   "metadata": {},
   "outputs": [
    {
     "data": {
      "image/png": "[encoded data removed]",
      "text/plain": [
       "<Figure size 1350x450 with 1 Axes>"
      ]
     },
     "metadata": {
      "needs_background": "light"
     },
     "output_type": "display_data"
    }
   ],
   "source": [
    "fig = plt.figure(figsize=(9,3))\n",
    "ax = fig.gca()\n",
    "g = sns.barplot(\n",
    "    data=df_container,\n",
    "    x=\"type\", y=\"time\", hue=\"p\",\n",
    "    ci=\"sd\", palette=\"dark\",#, alpha=.6, height=6,\n",
    "    ax=ax\n",
    ")\n",
    "#g.despine(left=True)\n",
    "#g.set_axis_labels(\"Size\", \"Time [s]\")\n",
    "#g.legend.set_title(\"\")\n"
   ]
  },
  {
   "cell_type": "code",
   "execution_count": null,
   "id": "56dac727",
   "metadata": {},
   "outputs": [],
   "source": []
  }
 ],
 "metadata": {
  "kernelspec": {
   "display_name": "Python 3 (ipykernel)",
   "language": "python",
   "name": "python3"
  },
  "language_info": {
   "codemirror_mode": {
    "name": "ipython",
    "version": 3
   },
   "file_extension": ".py",
   "mimetype": "text/x-python",
   "name": "python",
   "nbconvert_exporter": "python",
   "pygments_lexer": "ipython3",
   "version": "3.8.10"
  }
 },
 "nbformat": 4,
 "nbformat_minor": 5
}
